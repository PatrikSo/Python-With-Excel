{
 "cells": [
  {
   "cell_type": "markdown",
   "id": "hazardous-luxury",
   "metadata": {},
   "source": [
    "# Table of Contents\n",
    "- Chapter notes \n",
    "    - Numpy\n",
    "    - Vectorization and broadcasting\n",
    "    - Numpy universal functions\n",
    "    - view vs copy in NumPy\n",
    "    - Learning NumPy for pandas (next chapter)"
   ]
  },
  {
   "cell_type": "markdown",
   "id": "wrapped-eleven",
   "metadata": {},
   "source": [
    "# Chapter 4 - NumPy Foundations \n",
    "\n",
    "- NumPy is the main package for scientific computing in Python\n",
    "- NumPy uses compiled programs from C or FORTRAN to run array calculations many times faster\n",
    "- one dimensional array only has one axis (no explicit column or row orientation)\n",
    "- two dimensional array has more than one axis (two)\n",
    "- numPy uses its own datatypes (like float64 instead of Pythons regular floats)\n",
    "- vectorization, sum of a scalar and NumPy array (element-wise operation)\n",
    "- scalar, basic Python data type like float or string (used to differentiate between data structures that use several data types like dictionaries)\n",
    "- broadcasting, making the smaller array in an array operation automatically cross the larger array so their shapes are compatible \n",
    "\n",
    "#### Universal Functions\n",
    "- Universal functions (ufunc), functions that work on every element in a Numpy array\n",
    "- ufunc is much faster for larger arrays than using loops\n",
    "- ufunc's are methods you can use with the arrays that NumPy provides!\n",
    "- ufunc's can be used with pandas DataFrames\n",
    "\n",
    "#### Getting and Setting Array Elements\n",
    "- chained indexing, matrix[0][0], using more than one index for a more than one dimensional structure\n",
    "- NumPy syntax for chained indexing: numpy_array[row_selection, column_selection]\n",
    "- index syntax: start:end\n",
    "\n",
    "#### useful Array Constructors\n",
    "- arange function, array range, similar to Pythons range() but it returns a NumPy array\n",
    "- Monte Carlo simulations use psuedo random arrays, can make them using .random.randn()\n",
    "\n",
    "#### View vs. Copy\n",
    "- NumPy arrays return views when they are sliced (no real copy of new array)\n",
    "- setting a value on a view will also change the original array\n",
    "\n",
    "\n",
    "#### Two main issues of NumPy (For Data Analysis)\n",
    "- whole NumPy array needs to be of the same data type\n",
    "- using NumPy arrays for data analysis makes it hard to know which column or row refers to"
   ]
  },
  {
   "cell_type": "code",
   "execution_count": 2,
   "id": "liked-bandwidth",
   "metadata": {},
   "outputs": [
    {
     "data": {
      "text/plain": [
       "[[2, 3, 4], [5, 6, 7], [8, 9, 10]]"
      ]
     },
     "execution_count": 2,
     "metadata": {},
     "output_type": "execute_result"
    }
   ],
   "source": [
    "#array calculations without NumPy\n",
    "matrix = [[1,2,3],[4,5,6],[7,8,9]]\n",
    "[[i + 1 for i in row] for row in matrix] #list comprehension"
   ]
  },
  {
   "cell_type": "code",
   "execution_count": 3,
   "id": "olive-swift",
   "metadata": {},
   "outputs": [],
   "source": [
    "import numpy as np"
   ]
  },
  {
   "cell_type": "code",
   "execution_count": 4,
   "id": "solved-palace",
   "metadata": {},
   "outputs": [],
   "source": [
    "#Constructing an array with a simple list results in a 1d array\n",
    "array1 = np.array([10, 100, 1000.])"
   ]
  },
  {
   "cell_type": "code",
   "execution_count": 5,
   "id": "italian-level",
   "metadata": {},
   "outputs": [],
   "source": [
    "#Constructing an array with a nested list results in a 2d array\n",
    "array2 = np.array([[1., 2., 3.], [4.,5.,6.]])"
   ]
  },
  {
   "cell_type": "code",
   "execution_count": 6,
   "id": "coupled-ukraine",
   "metadata": {},
   "outputs": [
    {
     "data": {
      "text/plain": [
       "dtype('float64')"
      ]
     },
     "execution_count": 6,
     "metadata": {},
     "output_type": "execute_result"
    }
   ],
   "source": [
    "array1.dtype"
   ]
  },
  {
   "cell_type": "code",
   "execution_count": 7,
   "id": "completed-keyboard",
   "metadata": {},
   "outputs": [
    {
     "data": {
      "text/plain": [
       "10.0"
      ]
     },
     "execution_count": 7,
     "metadata": {},
     "output_type": "execute_result"
    }
   ],
   "source": [
    "#explicitly casting an array element in NumPy\n",
    "float(array1[0])"
   ]
  },
  {
   "cell_type": "code",
   "execution_count": 8,
   "id": "generous-wesley",
   "metadata": {},
   "outputs": [
    {
     "data": {
      "text/plain": [
       "array([  11.,  101., 1001.])"
      ]
     },
     "execution_count": 8,
     "metadata": {},
     "output_type": "execute_result"
    }
   ],
   "source": [
    "#example of vectorization\n",
    "array1 + 1"
   ]
  },
  {
   "cell_type": "code",
   "execution_count": 9,
   "id": "sacred-excitement",
   "metadata": {},
   "outputs": [
    {
     "data": {
      "text/plain": [
       "array([[  10.,  200., 3000.],\n",
       "       [  40.,  500., 6000.]])"
      ]
     },
     "execution_count": 9,
     "metadata": {},
     "output_type": "execute_result"
    }
   ],
   "source": [
    "array1 * array2"
   ]
  },
  {
   "cell_type": "code",
   "execution_count": 11,
   "id": "contrary-spank",
   "metadata": {},
   "outputs": [
    {
     "data": {
      "text/plain": [
       "array([[14., 32.],\n",
       "       [32., 77.]])"
      ]
     },
     "execution_count": 11,
     "metadata": {},
     "output_type": "execute_result"
    }
   ],
   "source": [
    "array2 @ array2.T # array2.T is a shortcut for array2.transpose()"
   ]
  },
  {
   "cell_type": "code",
   "execution_count": 12,
   "id": "foreign-settle",
   "metadata": {},
   "outputs": [
    {
     "ename": "TypeError",
     "evalue": "only size-1 arrays can be converted to Python scalars",
     "output_type": "error",
     "traceback": [
      "\u001b[1;31m---------------------------------------------------------------------------\u001b[0m",
      "\u001b[1;31mTypeError\u001b[0m                                 Traceback (most recent call last)",
      "\u001b[1;32m<ipython-input-12-a0e198c98933>\u001b[0m in \u001b[0;36m<module>\u001b[1;34m\u001b[0m\n\u001b[0;32m      2\u001b[0m \u001b[1;32mimport\u001b[0m \u001b[0mmath\u001b[0m\u001b[1;33m\u001b[0m\u001b[1;33m\u001b[0m\u001b[0m\n\u001b[0;32m      3\u001b[0m \u001b[1;33m\u001b[0m\u001b[0m\n\u001b[1;32m----> 4\u001b[1;33m \u001b[0mmath\u001b[0m\u001b[1;33m.\u001b[0m\u001b[0msqrt\u001b[0m\u001b[1;33m(\u001b[0m\u001b[0marray2\u001b[0m\u001b[1;33m)\u001b[0m \u001b[1;31m#will raise error\u001b[0m\u001b[1;33m\u001b[0m\u001b[1;33m\u001b[0m\u001b[0m\n\u001b[0m",
      "\u001b[1;31mTypeError\u001b[0m: only size-1 arrays can be converted to Python scalars"
     ]
    }
   ],
   "source": [
    "#example of Python math library not working with NumPy arrays\n",
    "import math\n",
    "\n",
    "math.sqrt(array2) #will raise error"
   ]
  },
  {
   "cell_type": "code",
   "execution_count": 13,
   "id": "resident-paintball",
   "metadata": {},
   "outputs": [
    {
     "data": {
      "text/plain": [
       "array([[1.        , 1.41421356, 1.73205081],\n",
       "       [2.        , 2.23606798, 2.44948974]])"
      ]
     },
     "execution_count": 13,
     "metadata": {},
     "output_type": "execute_result"
    }
   ],
   "source": [
    "#how to compute error above correct way using loop\n",
    "\n",
    "np.array([[math.sqrt(i) for i in row] for row in array2])"
   ]
  },
  {
   "cell_type": "code",
   "execution_count": 14,
   "id": "silver-paper",
   "metadata": {},
   "outputs": [
    {
     "data": {
      "text/plain": [
       "array([[1.        , 1.41421356, 1.73205081],\n",
       "       [2.        , 2.23606798, 2.44948974]])"
      ]
     },
     "execution_count": 14,
     "metadata": {},
     "output_type": "execute_result"
    }
   ],
   "source": [
    "#using a ufunc instead\n",
    "\n",
    "np.sqrt(array2)"
   ]
  },
  {
   "cell_type": "code",
   "execution_count": 15,
   "id": "distinguished-district",
   "metadata": {},
   "outputs": [
    {
     "data": {
      "text/plain": [
       "array([5., 7., 9.])"
      ]
     },
     "execution_count": 15,
     "metadata": {},
     "output_type": "execute_result"
    }
   ],
   "source": [
    "#sum of each column\n",
    "#Returns 1d array\n",
    "\n",
    "array2.sum(axis=0)"
   ]
  },
  {
   "cell_type": "code",
   "execution_count": 16,
   "id": "patent-covering",
   "metadata": {},
   "outputs": [
    {
     "data": {
      "text/plain": [
       "21.0"
      ]
     },
     "execution_count": 16,
     "metadata": {},
     "output_type": "execute_result"
    }
   ],
   "source": [
    "array2.sum()"
   ]
  },
  {
   "cell_type": "code",
   "execution_count": 17,
   "id": "linear-polish",
   "metadata": {},
   "outputs": [
    {
     "data": {
      "text/plain": [
       "1000.0"
      ]
     },
     "execution_count": 17,
     "metadata": {},
     "output_type": "execute_result"
    }
   ],
   "source": [
    "array1[2] # returns a scalar"
   ]
  },
  {
   "cell_type": "code",
   "execution_count": 18,
   "id": "binary-poster",
   "metadata": {},
   "outputs": [
    {
     "data": {
      "text/plain": [
       "1.0"
      ]
     },
     "execution_count": 18,
     "metadata": {},
     "output_type": "execute_result"
    }
   ],
   "source": [
    "array2[0,0] # returns a scalar"
   ]
  },
  {
   "cell_type": "code",
   "execution_count": 19,
   "id": "documented-academy",
   "metadata": {},
   "outputs": [
    {
     "data": {
      "text/plain": [
       "array([[2., 3.],\n",
       "       [5., 6.]])"
      ]
     },
     "execution_count": 19,
     "metadata": {},
     "output_type": "execute_result"
    }
   ],
   "source": [
    "array2[:,1:] # returns a 2d array"
   ]
  },
  {
   "cell_type": "code",
   "execution_count": 20,
   "id": "assigned-tower",
   "metadata": {},
   "outputs": [
    {
     "data": {
      "text/plain": [
       "array([2., 5.])"
      ]
     },
     "execution_count": 20,
     "metadata": {},
     "output_type": "execute_result"
    }
   ],
   "source": [
    "array2[:,1] # returns a 1d array"
   ]
  },
  {
   "cell_type": "code",
   "execution_count": 21,
   "id": "sorted-bible",
   "metadata": {},
   "outputs": [
    {
     "data": {
      "text/plain": [
       "array([4., 5.])"
      ]
     },
     "execution_count": 21,
     "metadata": {},
     "output_type": "execute_result"
    }
   ],
   "source": [
    "array2[1, :2] # returns a 1d array"
   ]
  },
  {
   "cell_type": "code",
   "execution_count": 22,
   "id": "governmental-trunk",
   "metadata": {},
   "outputs": [
    {
     "data": {
      "text/plain": [
       "array([[0, 1, 2, 3, 4],\n",
       "       [5, 6, 7, 8, 9]])"
      ]
     },
     "execution_count": 22,
     "metadata": {},
     "output_type": "execute_result"
    }
   ],
   "source": [
    "np.arange(2 * 5).reshape(2,5) # 2 rows, 5 columns"
   ]
  },
  {
   "cell_type": "code",
   "execution_count": 23,
   "id": "connected-study",
   "metadata": {},
   "outputs": [
    {
     "data": {
      "text/plain": [
       "array([[-0.81367624, -0.86541404, -0.08545628],\n",
       "       [ 1.36118403,  1.66898984, -1.34802406]])"
      ]
     },
     "execution_count": 23,
     "metadata": {},
     "output_type": "execute_result"
    }
   ],
   "source": [
    "np.random.randn(2,3) # 2 rows, 3 columns"
   ]
  },
  {
   "cell_type": "code",
   "execution_count": 24,
   "id": "seventh-suggestion",
   "metadata": {},
   "outputs": [
    {
     "data": {
      "text/plain": [
       "array([[1., 2., 3.],\n",
       "       [4., 5., 6.]])"
      ]
     },
     "execution_count": 24,
     "metadata": {},
     "output_type": "execute_result"
    }
   ],
   "source": [
    "array2"
   ]
  },
  {
   "cell_type": "code",
   "execution_count": 26,
   "id": "prospective-pointer",
   "metadata": {},
   "outputs": [
    {
     "data": {
      "text/plain": [
       "array([[1., 2.],\n",
       "       [4., 5.]])"
      ]
     },
     "execution_count": 26,
     "metadata": {},
     "output_type": "execute_result"
    }
   ],
   "source": [
    "subset = array2[:, :2]   #all rows, first 2 columns\n",
    "subset"
   ]
  },
  {
   "cell_type": "code",
   "execution_count": 27,
   "id": "minimal-respect",
   "metadata": {},
   "outputs": [
    {
     "data": {
      "text/plain": [
       "array([[1000.,    2.],\n",
       "       [   4.,    5.]])"
      ]
     },
     "execution_count": 27,
     "metadata": {},
     "output_type": "execute_result"
    }
   ],
   "source": [
    "subset[0,0] = 1000\n",
    "subset"
   ]
  },
  {
   "cell_type": "code",
   "execution_count": 28,
   "id": "labeled-seattle",
   "metadata": {},
   "outputs": [
    {
     "data": {
      "text/plain": [
       "array([[1000.,    2.,    3.],\n",
       "       [   4.,    5.,    6.]])"
      ]
     },
     "execution_count": 28,
     "metadata": {},
     "output_type": "execute_result"
    }
   ],
   "source": [
    "array2  #array2 was changed by subset"
   ]
  },
  {
   "cell_type": "code",
   "execution_count": 29,
   "id": "similar-mother",
   "metadata": {},
   "outputs": [],
   "source": [
    "#to get new copy of view\n",
    "subset = array2[:, :2].copy()"
   ]
  },
  {
   "cell_type": "code",
   "execution_count": null,
   "id": "tough-trauma",
   "metadata": {},
   "outputs": [],
   "source": []
  }
 ],
 "metadata": {
  "kernelspec": {
   "display_name": "Python 3",
   "language": "python",
   "name": "python3"
  },
  "language_info": {
   "codemirror_mode": {
    "name": "ipython",
    "version": 3
   },
   "file_extension": ".py",
   "mimetype": "text/x-python",
   "name": "python",
   "nbconvert_exporter": "python",
   "pygments_lexer": "ipython3",
   "version": "3.9.1"
  }
 },
 "nbformat": 4,
 "nbformat_minor": 5
}
