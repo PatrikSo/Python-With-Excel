{
 "cells": [
  {
   "cell_type": "markdown",
   "id": "great-sleep",
   "metadata": {},
   "source": [
    "# Table of Contents\n",
    "- Chapter notes \n",
    "  - Why Python with Excel is a good idea + some tools and interesting reads\n",
    "- Helpful links"
   ]
  },
  {
   "cell_type": "markdown",
   "id": "suspected-research",
   "metadata": {},
   "source": [
    "# Chapter 1. Why Python for Excel?\n",
    "\n",
    "- Excel was first launched in 1985 by Microsoft, originaly only available for Apple Macintosh!\n",
    "- Python was first born in  1991, NumPy made scientific research with Python mainstream and new efficient libraries such as pandas made it more popular than ever.\n",
    "\n",
    "#### Excel is a Programming Language\n",
    "- Excel has its own functions, you can define your own functions, and as recent as 2020 lambda functions were introduced 9enabling resuable functions).\n",
    "- Brain Jones, Excel's head of product, claims Excel to be a viable programming language now\n",
    "- Excel users are techically Excel programmers\n",
    "- Excel is missing a few things which Python an provide such as unit testing and good package organization.\n",
    "- many reasons Python and Excel work well together, Python can replace VBA (Excels own's formula language)\n",
    "\n",
    "#### Excel in the News\n",
    "- Disconnect between business and software know-how lead to many costly issues for many people.\n",
    "- Biggest example is the Londan Whale example, a trader which caused JP Morgan to lose 6 billion in 2012.\n",
    "- Many example can be found here: http://www.eusprig.org/horror-stories.htm\n",
    "\n",
    "#### Programming practices that help benefit Excel\n",
    "- seperation of concerns, (modularity), the idea that a related set of functionality should be taken care of by an independent part of the program, not all together.\n",
    "- Highlest level application layers: Presentation layer, Business Layer, Data Layer\n",
    "  - Presentation layer, the layer in which you interact with (user interaction), UI.\n",
    "  - Business layer, area of the application that takes care of the application-specific logic, such as computations/formula usage.\n",
    "  - Data layer, layer that takes care of accessing the data used in the application.\n",
    "- DRY principle, the idea to not repeat yourself\n",
    "  - no duplicate code, no repeating code\n",
    "  - Idea/name populariazed by 'The Pragmatic Programmer' by Hunt and Thomas.\n",
    "- Testing code is super important, Excel somewhat lacks in unit testing but Python doesnt.\n",
    "- Version control is made easier with Python as well, by using a language like Python you can use the full power of Git or other version control systems which don't work with Excel alone.\n",
    "- Version control, Source control, version control system (VCS), tracks your source code over time.\n",
    "- Excel developers typically stick to a certain convention in file names in version control systems, this keeps a version history of your files locally but by doing this you cannot use the large benefits of regular VCS usage (such as pull requests/merge requests).\n",
    "\n",
    "#### Power Query\n",
    "- Power Query is a add-in for Excel introduced in 2010, connects a multitude of data sources (such as Excel workbooks, CSV files, SQL databases, so on).\n",
    "- Lets you clean up your data from many sources.\n",
    "\n",
    "#### Power Pivot\n",
    "- Power Pivot, normally used after data is cleaned from Power Query, helps analyze and present data in appealing ways in Excel.\n",
    "- Lets you define formal data models and relationships in hierarchies.\n",
    "- Can use DAX formula language.\n",
    "\n",
    "#### Power BI\n",
    "- Power BI is a seperate application released in 2015, focus on business intelligence.\n",
    "- Application makes sense of large datasets by visualizing them into interactive boards.\n",
    "- Supports Python scripts.\n",
    "\n",
    "#### Python for Excel\n",
    "- Excel is about storing, analyzing. and visualizing data, since Python is particularly strong in the area of scientific computing Python has many ways in which it can benefit Excel.\n",
    "- Python makes your overall model mor readable, not allowing specific possibly confusing semantics that languages such as VBA allow.\n",
    "- Pythons standard library and package manager enalbe features much easier, Excel would normnally require many add-ons for specific tasks but python has many of those built-in.\n",
    "- Pythons package manager makes version control for add-in/packages much easier.\n",
    "- By using PyPI (Python Package Index) you can find and add much more functionality to your overall model.\n",
    "- Python has features that are missing in Excel (standard library, package manager, libraries for scientific computing, cross-platform compatibility)."
   ]
  },
  {
   "cell_type": "markdown",
   "id": "meaningful-producer",
   "metadata": {},
   "source": [
    "### Helpful/intersting links\n",
    "  - https://www.xlwings.org/blog/unittests-for-microsoft-excel\n",
    "  - https://www.xltrail.com/\n",
    "  - http://www.eusprig.org/horror-stories.htm\n",
    "  - https://www.theverge.com/2020/8/6/21355674/human-genes-rename-microsoft-excel-misreading-dates\n",
    "  - https://techcommunity.microsoft.com/t5/excel-blog/announcing-lambda-turn-excel-formulas-into-custom-functions/ba-p/1925546\n",
    "  - https://www.bbc.com/news/technology-54423988\n",
    "  - https://en.wikipedia.org/wiki/2012_JPMorgan_Chase_trading_loss#cite_note-35\n",
    "  - https://docs.microsoft.com/en-us/previous-versions/msp-n-p/ff650706(v=pandp.10)"
   ]
  },
  {
   "cell_type": "code",
   "execution_count": null,
   "id": "norman-decline",
   "metadata": {},
   "outputs": [],
   "source": []
  }
 ],
 "metadata": {
  "kernelspec": {
   "display_name": "Python 3",
   "language": "python",
   "name": "python3"
  },
  "language_info": {
   "codemirror_mode": {
    "name": "ipython",
    "version": 3
   },
   "file_extension": ".py",
   "mimetype": "text/x-python",
   "name": "python",
   "nbconvert_exporter": "python",
   "pygments_lexer": "ipython3",
   "version": "3.9.1"
  }
 },
 "nbformat": 4,
 "nbformat_minor": 5
}
