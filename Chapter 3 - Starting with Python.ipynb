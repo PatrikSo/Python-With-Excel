{
 "cells": [
  {
   "cell_type": "markdown",
   "id": "earned-michael",
   "metadata": {},
   "source": [
    "# Table of Contents\n",
    "- Chapter notes \n",
    "  - Basic Data Types (Integers and strings)\n",
    "  - indexing and Slicing\n",
    "  - Data Structures (Lists and Dictionaries)\n",
    "  - Control statements\n",
    "  - Functions and Modules for organization\n",
    "  - Proper Python formatting"
   ]
  },
  {
   "cell_type": "markdown",
   "id": "legislative-relief",
   "metadata": {},
   "source": [
    "# Chapter 3 - Getting Started with Python \n",
    "\n",
    "#### Data Types\n",
    "- Data type, (integers, floats, booleans, and strings)\n",
    "\n",
    "#### Objects\n",
    "- Everything in Python is an object\n",
    "- variable, a name that you can assign to an object by using the equal sign\n",
    "- dynamic typing, changing a variables type simply by asigning it to a new object\n",
    "- Python is case-sensitive (unlike VBA)\n",
    "- function, a name calling a block of code with parameters (optionally)\n",
    "- attributes, varaibles in context to objects, gives access to data from an object\n",
    "- methods, functions in context to objects, allow you to perform actions\n",
    "- class, where the type of an object and its behavior is defined\n",
    "- instantiation, process of getting a specific object from a class\n",
    "\n",
    "#### Numeric Types\n",
    "- int and float, integers and floating-point numbers respectively\n",
    "- Excel cells always store floats\n",
    "- floating-point inaccuracie, rounding erro (Excel always rounds numbers but seeing the floating number behind the scenes are on a larger scales shows a un-rounded incorrect float\n",
    "- Python doesn't hide the rounding errors from floating-point inaccuracies\n",
    "- numeric operations include (+, -, /, *, **, and () )\n",
    "\n",
    "#### Booleans\n",
    "- boolean types are True or False\n",
    "- Boolean operators (and, or, not)\n",
    "- every object in Python evaluates to either True or False, most being true\n",
    "- False, 0, empty data types are example sof those that can result in False on their own\n",
    "- None is a built-in constant, represents \"abscence of a value\"\n",
    "- Noneis good to represent empty cells in Excel\n",
    "\n",
    "#### Strings\n",
    "- Strings are character lines\n",
    "- Can be represented by double quotes or single quotes \"\" or ''\n",
    "- can use + or * to concatenate strings (for repeating)\n",
    "- .lower() is for lowercase string, .upper() is for uppercase string\n",
    "\n",
    "\n",
    "- hitting tab after a period for a object shows what actions you can take with the object (for jupyter notebook)\n",
    "\n",
    "#### Indexing and Slicing\n",
    "- Indexing and Slicing give access to spedific pieces of a sequence\n",
    "- Srings are sequences of characters so we can slice or index them\n",
    "- String index example:\n",
    "| 0 | 1 | 2 | 3 | 4 | 5 |\n",
    "|---|---|---|---|---|---\n",
    "| P | y | t | h | o | n |\n",
    "| -6 | -5 | -4 | -3 | -2 | -1 |\n",
    "- index does go backwards with negative numbers!\n",
    "- syntax for indexing: sequence[index]\n",
    "- slicing is used to get more than just one element from a sequence\n",
    "- sequence syntax: sequence[start:stop:step]\n",
    "- you can chain slices and indexes! \n",
    "\n",
    "#### Data Structures\n",
    "- Will be going over lists, dictionaries, tuples, and sets\n",
    "- all 4 can hold several data objects\n",
    "- Lists, structure holding several data types and super versatile\n",
    "- List syntax: [element1, element2, ... so on]\n",
    "- can concatenate lists as well! (append them)\n",
    "- can put lists in lists (nested lists)\n",
    "- Dictionaries, map keys to values, key/value combinations\n",
    "- Dictionary syntax: {key1: value1. key2, value2, so on ... }\n",
    "- adding two/more dictionaries together is done by unpacking (**)\n",
    "  - the keys shared between both dictionaries will overide \n",
    "- Tuples are like lists but are immutable (after creation the elements cannot be changed)\n",
    "- Tuple syntax: mytuple = element1, element2, ...\n",
    "- Adding values to a tuple results in a brand new tuple without the original changing \n",
    "- Sets, collections with no duplicate items, helpful for getting unique items\n",
    "- Set syntax: {element1, element2, ...}\n",
    "| Data Structure | Literals | Constructor |\n",
    "| --- | --- | --- |\n",
    "| List | [1,2,3] | list((1,2,3)) |\n",
    "| Dictionary | {\"a\":1, \"b\":2} | dict(a-1, b=2) |\n",
    "| Tuple | (1,2,3) | tuple([1,2,3]) |\n",
    "| Set | {1,2,3} | set((1,2,3)) |\n",
    "\n",
    "#### Control Flow\n",
    "- if, for, while loops, statements allowing sequences of code to run at specific times\n",
    "- code block, section in source code \n",
    "- significant white space, spaces that let you define code blocks \n",
    "- conditional expressions, (ternary operators), compact style of if/else statements\n",
    "- range gives a sequence of numbers\n",
    "- range(stop) or range(start, stop, step)\n",
    "\n",
    "- augmented assignment notation, n += 1 (same as n=n+1), can be n -= 1\n",
    "\n",
    "- list comprehension, concise way of creating a list\n",
    "- Dictionary and set comprehensions exist too\n",
    "\n",
    "#### Code Organization\n",
    "- function, block of code to repeat, def is to define one \n",
    "- sub procedure, function that doesnt return anything\n",
    "- function syntax: def function_name(required_argument, optional_argument=defaut_value,...):\n",
    "                       return value1, value2, ...\n",
    "- Required arguments, no default value (multiple are sesperated by commas)\n",
    "- Optional arguments, has default value, None is used to make it optional if there is no good default\n",
    "- Return value, return statement defines what value comes from the function (no return, returns None)\n",
    "- function call syntax: value1, value2, ... = function_name(positional_arg, arg_name=value, ...)\n",
    "- positional arguments, vales provided as a positional argument are matched to arguments in the function definition\n",
    "- Keyword arguments, arguments that you can provide in any order, more explicit\n",
    "- script, main file\n",
    "- import, to let other files access functionalities \n",
    "- modules, python source files\n",
    "- when importing a module, a __pycache__ folder is made, bytecode-compiled files Python interpreter makes\n",
    "- namespace is important, can override functions if they share the same name when importing modules\n",
    "- datetime class in Python, dates and times are heavily used in Excel\n",
    "- literals, syntax Python uses to recognize a specific object (like a list of set)\n",
    "- instantiation, calling a class to create an object )objects are then called class instances)\n",
    "\n",
    "\n",
    "#### Style Guide for Python Code\n",
    "- Python uses Python Enhancement Proposals (PEP) to introduce new language features\n",
    "- PEP 8, Style Guide for Python Code\n",
    "\n"
   ]
  },
  {
   "cell_type": "code",
   "execution_count": 1,
   "id": "broad-mandate",
   "metadata": {},
   "outputs": [
    {
     "name": "stdout",
     "output_type": "stream",
     "text": [
      "3\n",
      "three\n"
     ]
    }
   ],
   "source": [
    "# Variable example with dynamic typing\n",
    "a = 3\n",
    "print(a)\n",
    "a = \"three\"\n",
    "print(a)"
   ]
  },
  {
   "cell_type": "code",
   "execution_count": 4,
   "id": "controlling-trouble",
   "metadata": {},
   "outputs": [
    {
     "name": "stdout",
     "output_type": "stream",
     "text": [
      "<class 'int'>\n",
      "<class 'float'>\n"
     ]
    }
   ],
   "source": [
    "# Type examples\n",
    "print(type(4))\n",
    "print(type(4.4))"
   ]
  },
  {
   "cell_type": "code",
   "execution_count": 5,
   "id": "registered-allah",
   "metadata": {},
   "outputs": [
    {
     "data": {
      "text/plain": [
       "int"
      ]
     },
     "execution_count": 5,
     "metadata": {},
     "output_type": "execute_result"
    }
   ],
   "source": [
    "type(4)"
   ]
  },
  {
   "cell_type": "code",
   "execution_count": 6,
   "id": "boolean-supervisor",
   "metadata": {},
   "outputs": [
    {
     "data": {
      "text/plain": [
       "0.02499999999999991"
      ]
     },
     "execution_count": 6,
     "metadata": {},
     "output_type": "execute_result"
    }
   ],
   "source": [
    "#flaoting-point inaccuracy example\n",
    "1.125 - 1.1"
   ]
  },
  {
   "cell_type": "code",
   "execution_count": 7,
   "id": "tracked-inspection",
   "metadata": {},
   "outputs": [
    {
     "data": {
      "text/plain": [
       "7"
      ]
     },
     "execution_count": 7,
     "metadata": {},
     "output_type": "execute_result"
    }
   ],
   "source": [
    "#numeric operation examples\n",
    "3 + 4"
   ]
  },
  {
   "cell_type": "code",
   "execution_count": 8,
   "id": "secondary-china",
   "metadata": {},
   "outputs": [
    {
     "data": {
      "text/plain": [
       "-1"
      ]
     },
     "execution_count": 8,
     "metadata": {},
     "output_type": "execute_result"
    }
   ],
   "source": [
    "3 - 4"
   ]
  },
  {
   "cell_type": "code",
   "execution_count": 9,
   "id": "nuclear-receipt",
   "metadata": {},
   "outputs": [
    {
     "data": {
      "text/plain": [
       "0.75"
      ]
     },
     "execution_count": 9,
     "metadata": {},
     "output_type": "execute_result"
    }
   ],
   "source": [
    "3 / 4"
   ]
  },
  {
   "cell_type": "code",
   "execution_count": 10,
   "id": "stopped-encyclopedia",
   "metadata": {},
   "outputs": [
    {
     "data": {
      "text/plain": [
       "12"
      ]
     },
     "execution_count": 10,
     "metadata": {},
     "output_type": "execute_result"
    }
   ],
   "source": [
    "3 * 4"
   ]
  },
  {
   "cell_type": "code",
   "execution_count": 11,
   "id": "universal-instruction",
   "metadata": {},
   "outputs": [
    {
     "data": {
      "text/plain": [
       "81"
      ]
     },
     "execution_count": 11,
     "metadata": {},
     "output_type": "execute_result"
    }
   ],
   "source": [
    "3 ** 4"
   ]
  },
  {
   "cell_type": "code",
   "execution_count": 12,
   "id": "blessed-personal",
   "metadata": {},
   "outputs": [
    {
     "data": {
      "text/plain": [
       "21"
      ]
     },
     "execution_count": 12,
     "metadata": {},
     "output_type": "execute_result"
    }
   ],
   "source": [
    "3 * (3 + 4)"
   ]
  },
  {
   "cell_type": "code",
   "execution_count": 13,
   "id": "floating-vehicle",
   "metadata": {},
   "outputs": [
    {
     "data": {
      "text/plain": [
       "False"
      ]
     },
     "execution_count": 13,
     "metadata": {},
     "output_type": "execute_result"
    }
   ],
   "source": [
    "#Boolean operation examples\n",
    "3 == 4"
   ]
  },
  {
   "cell_type": "code",
   "execution_count": 14,
   "id": "smaller-spare",
   "metadata": {},
   "outputs": [
    {
     "data": {
      "text/plain": [
       "True"
      ]
     },
     "execution_count": 14,
     "metadata": {},
     "output_type": "execute_result"
    }
   ],
   "source": [
    "3 != 4"
   ]
  },
  {
   "cell_type": "code",
   "execution_count": 15,
   "id": "grave-drilling",
   "metadata": {},
   "outputs": [
    {
     "data": {
      "text/plain": [
       "True"
      ]
     },
     "execution_count": 15,
     "metadata": {},
     "output_type": "execute_result"
    }
   ],
   "source": [
    "3 < 4"
   ]
  },
  {
   "cell_type": "code",
   "execution_count": 16,
   "id": "standard-subscription",
   "metadata": {},
   "outputs": [
    {
     "data": {
      "text/plain": [
       "True"
      ]
     },
     "execution_count": 16,
     "metadata": {},
     "output_type": "execute_result"
    }
   ],
   "source": [
    "3 <= 4"
   ]
  },
  {
   "cell_type": "code",
   "execution_count": 18,
   "id": "annoying-feeling",
   "metadata": {},
   "outputs": [
    {
     "data": {
      "text/plain": [
       "False"
      ]
     },
     "execution_count": 18,
     "metadata": {},
     "output_type": "execute_result"
    }
   ],
   "source": [
    "not True"
   ]
  },
  {
   "cell_type": "code",
   "execution_count": 19,
   "id": "industrial-bouquet",
   "metadata": {},
   "outputs": [
    {
     "data": {
      "text/plain": [
       "False"
      ]
     },
     "execution_count": 19,
     "metadata": {},
     "output_type": "execute_result"
    }
   ],
   "source": [
    "False and True"
   ]
  },
  {
   "cell_type": "code",
   "execution_count": 20,
   "id": "beautiful-journey",
   "metadata": {},
   "outputs": [
    {
     "data": {
      "text/plain": [
       "True"
      ]
     },
     "execution_count": 20,
     "metadata": {},
     "output_type": "execute_result"
    }
   ],
   "source": [
    "False or True"
   ]
  },
  {
   "cell_type": "code",
   "execution_count": 21,
   "id": "integral-bhutan",
   "metadata": {},
   "outputs": [
    {
     "data": {
      "text/plain": [
       "True"
      ]
     },
     "execution_count": 21,
     "metadata": {},
     "output_type": "execute_result"
    }
   ],
   "source": [
    "# double checking if a object is True or False\n",
    "bool(2)"
   ]
  },
  {
   "cell_type": "code",
   "execution_count": 22,
   "id": "nasty-minnesota",
   "metadata": {},
   "outputs": [
    {
     "data": {
      "text/plain": [
       "False"
      ]
     },
     "execution_count": 22,
     "metadata": {},
     "output_type": "execute_result"
    }
   ],
   "source": [
    "bool(0)"
   ]
  },
  {
   "cell_type": "code",
   "execution_count": 23,
   "id": "civilian-question",
   "metadata": {},
   "outputs": [
    {
     "data": {
      "text/plain": [
       "False"
      ]
     },
     "execution_count": 23,
     "metadata": {},
     "output_type": "execute_result"
    }
   ],
   "source": [
    "bool(\"\")"
   ]
  },
  {
   "cell_type": "code",
   "execution_count": 24,
   "id": "numerous-mission",
   "metadata": {},
   "outputs": [
    {
     "data": {
      "text/plain": [
       "False"
      ]
     },
     "execution_count": 24,
     "metadata": {},
     "output_type": "execute_result"
    }
   ],
   "source": [
    "bool(None)"
   ]
  },
  {
   "cell_type": "code",
   "execution_count": 25,
   "id": "endless-certificate",
   "metadata": {},
   "outputs": [
    {
     "data": {
      "text/plain": [
       "'A double quote string. A single quote string'"
      ]
     },
     "execution_count": 25,
     "metadata": {},
     "output_type": "execute_result"
    }
   ],
   "source": [
    "#String examples with concatination\n",
    "\"A double quote string. \" + 'A single quote string'"
   ]
  },
  {
   "cell_type": "code",
   "execution_count": 26,
   "id": "possible-parameter",
   "metadata": {},
   "outputs": [
    {
     "name": "stdout",
     "output_type": "stream",
     "text": [
      "Dont wait! Learn how to \"speak\" Python\n"
     ]
    }
   ],
   "source": [
    "print(\"Dont wait! \" + 'Learn how to \"speak\" Python')"
   ]
  },
  {
   "cell_type": "code",
   "execution_count": 28,
   "id": "korean-charlotte",
   "metadata": {},
   "outputs": [
    {
     "name": "stdout",
     "output_type": "stream",
     "text": [
      "It's easy to \"Escape\" characters with a leading \\.\n"
     ]
    }
   ],
   "source": [
    "print(\"It's easy to \\\"Escape\\\" characters with a leading \\\\.\")"
   ]
  },
  {
   "cell_type": "code",
   "execution_count": 30,
   "id": "peaceful-evanescence",
   "metadata": {},
   "outputs": [
    {
     "data": {
      "text/plain": [
       "'python is free and open source.'"
      ]
     },
     "execution_count": 30,
     "metadata": {},
     "output_type": "execute_result"
    }
   ],
   "source": [
    "#Python allows you to conveniently assign multiple values to multiple variables in a singleline\n",
    "first_adjective, second_adjective = \"free\", \"open source\"\n",
    "f\"python is {first_adjective} and {second_adjective}.\""
   ]
  },
  {
   "cell_type": "code",
   "execution_count": 31,
   "id": "noble-asthma",
   "metadata": {},
   "outputs": [
    {
     "data": {
      "text/plain": [
       "'python'"
      ]
     },
     "execution_count": 31,
     "metadata": {},
     "output_type": "execute_result"
    }
   ],
   "source": [
    "\"PYTHON\".lower()"
   ]
  },
  {
   "cell_type": "code",
   "execution_count": 32,
   "id": "alike-flower",
   "metadata": {},
   "outputs": [
    {
     "data": {
      "text/plain": [
       "'PYTHON'"
      ]
     },
     "execution_count": 32,
     "metadata": {},
     "output_type": "execute_result"
    }
   ],
   "source": [
    "\"python\".upper()"
   ]
  },
  {
   "cell_type": "code",
   "execution_count": 33,
   "id": "prostate-wheat",
   "metadata": {},
   "outputs": [
    {
     "data": {
      "text/plain": [
       "'P'"
      ]
     },
     "execution_count": 33,
     "metadata": {},
     "output_type": "execute_result"
    }
   ],
   "source": [
    "#Indexing string examples\n",
    "language = \"PYTHON\"\n",
    "language[0]"
   ]
  },
  {
   "cell_type": "code",
   "execution_count": 35,
   "id": "large-salvation",
   "metadata": {},
   "outputs": [
    {
     "data": {
      "text/plain": [
       "'Y'"
      ]
     },
     "execution_count": 35,
     "metadata": {},
     "output_type": "execute_result"
    }
   ],
   "source": [
    "language[1]"
   ]
  },
  {
   "cell_type": "code",
   "execution_count": 36,
   "id": "spoken-hungarian",
   "metadata": {},
   "outputs": [
    {
     "data": {
      "text/plain": [
       "'T'"
      ]
     },
     "execution_count": 36,
     "metadata": {},
     "output_type": "execute_result"
    }
   ],
   "source": [
    "language[2]"
   ]
  },
  {
   "cell_type": "code",
   "execution_count": 37,
   "id": "rocky-desperate",
   "metadata": {},
   "outputs": [
    {
     "data": {
      "text/plain": [
       "'H'"
      ]
     },
     "execution_count": 37,
     "metadata": {},
     "output_type": "execute_result"
    }
   ],
   "source": [
    "language[-3]"
   ]
  },
  {
   "cell_type": "code",
   "execution_count": 38,
   "id": "third-subject",
   "metadata": {},
   "outputs": [
    {
     "data": {
      "text/plain": [
       "'PYT'"
      ]
     },
     "execution_count": 38,
     "metadata": {},
     "output_type": "execute_result"
    }
   ],
   "source": [
    "#Sequence string examples\n",
    "language[:3]"
   ]
  },
  {
   "cell_type": "code",
   "execution_count": 39,
   "id": "empirical-cache",
   "metadata": {},
   "outputs": [
    {
     "data": {
      "text/plain": [
       "'YT'"
      ]
     },
     "execution_count": 39,
     "metadata": {},
     "output_type": "execute_result"
    }
   ],
   "source": [
    "language[1:3]"
   ]
  },
  {
   "cell_type": "code",
   "execution_count": 40,
   "id": "binary-thing",
   "metadata": {},
   "outputs": [
    {
     "data": {
      "text/plain": [
       "'HO'"
      ]
     },
     "execution_count": 40,
     "metadata": {},
     "output_type": "execute_result"
    }
   ],
   "source": [
    "language[-3:-1]"
   ]
  },
  {
   "cell_type": "code",
   "execution_count": 41,
   "id": "processed-client",
   "metadata": {},
   "outputs": [
    {
     "data": {
      "text/plain": [
       "'PTO'"
      ]
     },
     "execution_count": 41,
     "metadata": {},
     "output_type": "execute_result"
    }
   ],
   "source": [
    "language[::2]"
   ]
  },
  {
   "cell_type": "code",
   "execution_count": 42,
   "id": "violent-nicholas",
   "metadata": {},
   "outputs": [
    {
     "data": {
      "text/plain": [
       "'NOH'"
      ]
     },
     "execution_count": 42,
     "metadata": {},
     "output_type": "execute_result"
    }
   ],
   "source": [
    "language[-1:-4:-1]"
   ]
  },
  {
   "cell_type": "code",
   "execution_count": 43,
   "id": "subsequent-lexington",
   "metadata": {},
   "outputs": [
    {
     "data": {
      "text/plain": [
       "'O'"
      ]
     },
     "execution_count": 43,
     "metadata": {},
     "output_type": "execute_result"
    }
   ],
   "source": [
    "#chaining a slice and index\n",
    "language[-3:][1]"
   ]
  },
  {
   "cell_type": "code",
   "execution_count": 44,
   "id": "rolled-enemy",
   "metadata": {},
   "outputs": [],
   "source": [
    "#List examples\n",
    "file_names = [\"one.xlsx\",\"two.xlsx\",\"three.xlsx\"]\n",
    "numbers = [1, 2, 3]"
   ]
  },
  {
   "cell_type": "code",
   "execution_count": 45,
   "id": "bulgarian-consortium",
   "metadata": {},
   "outputs": [
    {
     "data": {
      "text/plain": [
       "['one.xlsx', 'two.xlsx', 'three.xlsx', 1, 2, 3]"
      ]
     },
     "execution_count": 45,
     "metadata": {},
     "output_type": "execute_result"
    }
   ],
   "source": [
    "file_names + numbers"
   ]
  },
  {
   "cell_type": "code",
   "execution_count": 46,
   "id": "mature-island",
   "metadata": {},
   "outputs": [],
   "source": [
    "nested_list = [[1,2,3], [4,5,6], [7,8,9]]"
   ]
  },
  {
   "cell_type": "code",
   "execution_count": 47,
   "id": "tested-finish",
   "metadata": {},
   "outputs": [
    {
     "data": {
      "text/plain": [
       "[4, 5, 6]"
      ]
     },
     "execution_count": 47,
     "metadata": {},
     "output_type": "execute_result"
    }
   ],
   "source": [
    "nested_list[1]"
   ]
  },
  {
   "cell_type": "code",
   "execution_count": 48,
   "id": "tender-default",
   "metadata": {},
   "outputs": [
    {
     "data": {
      "text/plain": [
       "5"
      ]
     },
     "execution_count": 48,
     "metadata": {},
     "output_type": "execute_result"
    }
   ],
   "source": [
    "nested_list[1][1]"
   ]
  },
  {
   "cell_type": "code",
   "execution_count": 51,
   "id": "acknowledged-durham",
   "metadata": {},
   "outputs": [
    {
     "name": "stdout",
     "output_type": "stream",
     "text": [
      "6\n"
     ]
    }
   ],
   "source": [
    "#line continuation examples\n",
    "a = (1 + 2\n",
    "    + 3)\n",
    "print(a)"
   ]
  },
  {
   "cell_type": "code",
   "execution_count": 52,
   "id": "motivated-perry",
   "metadata": {},
   "outputs": [
    {
     "name": "stdout",
     "output_type": "stream",
     "text": [
      "6\n"
     ]
    }
   ],
   "source": [
    "a = 1 + 2 \\\n",
    "+ 3\n",
    "print(a)"
   ]
  },
  {
   "cell_type": "code",
   "execution_count": 53,
   "id": "regulation-japan",
   "metadata": {},
   "outputs": [],
   "source": [
    "users = [\"Linda\", \"Brian\"]"
   ]
  },
  {
   "cell_type": "code",
   "execution_count": 54,
   "id": "agreed-tourism",
   "metadata": {},
   "outputs": [
    {
     "data": {
      "text/plain": [
       "['Linda', 'Brian', 'Jennifer']"
      ]
     },
     "execution_count": 54,
     "metadata": {},
     "output_type": "execute_result"
    }
   ],
   "source": [
    "users.append(\"Jennifer\")\n",
    "users"
   ]
  },
  {
   "cell_type": "code",
   "execution_count": 55,
   "id": "structured-solution",
   "metadata": {},
   "outputs": [
    {
     "data": {
      "text/plain": [
       "['kim', 'Linda', 'Brian', 'Jennifer']"
      ]
     },
     "execution_count": 55,
     "metadata": {},
     "output_type": "execute_result"
    }
   ],
   "source": [
    "users.insert(0, \"kim\")\n",
    "users"
   ]
  },
  {
   "cell_type": "code",
   "execution_count": 56,
   "id": "occupied-soccer",
   "metadata": {},
   "outputs": [
    {
     "data": {
      "text/plain": [
       "['kim', 'Linda', 'Brian']"
      ]
     },
     "execution_count": 56,
     "metadata": {},
     "output_type": "execute_result"
    }
   ],
   "source": [
    "users.pop()\n",
    "users"
   ]
  },
  {
   "cell_type": "code",
   "execution_count": 57,
   "id": "studied-messaging",
   "metadata": {},
   "outputs": [
    {
     "data": {
      "text/plain": [
       "['Linda', 'Brian']"
      ]
     },
     "execution_count": 57,
     "metadata": {},
     "output_type": "execute_result"
    }
   ],
   "source": [
    "del users[0]\n",
    "users"
   ]
  },
  {
   "cell_type": "code",
   "execution_count": 58,
   "id": "desirable-significance",
   "metadata": {},
   "outputs": [
    {
     "data": {
      "text/plain": [
       "2"
      ]
     },
     "execution_count": 58,
     "metadata": {},
     "output_type": "execute_result"
    }
   ],
   "source": [
    "len(users)"
   ]
  },
  {
   "cell_type": "code",
   "execution_count": 59,
   "id": "arabic-utility",
   "metadata": {},
   "outputs": [
    {
     "data": {
      "text/plain": [
       "True"
      ]
     },
     "execution_count": 59,
     "metadata": {},
     "output_type": "execute_result"
    }
   ],
   "source": [
    "\"Linda\" in users"
   ]
  },
  {
   "cell_type": "code",
   "execution_count": 60,
   "id": "emerging-surgeon",
   "metadata": {},
   "outputs": [
    {
     "name": "stdout",
     "output_type": "stream",
     "text": [
      "['Brian', 'Linda']\n"
     ]
    }
   ],
   "source": [
    "print(sorted(users))"
   ]
  },
  {
   "cell_type": "code",
   "execution_count": 61,
   "id": "entire-destiny",
   "metadata": {},
   "outputs": [
    {
     "name": "stdout",
     "output_type": "stream",
     "text": [
      "['Linda', 'Brian']\n"
     ]
    }
   ],
   "source": [
    "print(users)"
   ]
  },
  {
   "cell_type": "code",
   "execution_count": 62,
   "id": "dying-practitioner",
   "metadata": {},
   "outputs": [
    {
     "data": {
      "text/plain": [
       "['Brian', 'Linda']"
      ]
     },
     "execution_count": 62,
     "metadata": {},
     "output_type": "execute_result"
    }
   ],
   "source": [
    "users.sort()\n",
    "users"
   ]
  },
  {
   "cell_type": "code",
   "execution_count": 1,
   "id": "limited-typing",
   "metadata": {},
   "outputs": [
    {
     "data": {
      "text/plain": [
       "1.1152"
      ]
     },
     "execution_count": 1,
     "metadata": {},
     "output_type": "execute_result"
    }
   ],
   "source": [
    "#Dictionary examples\n",
    "exchange_rates = {\"EURUSD\":1.1152,\n",
    "                 \"GBPUSD\":1.2454,\n",
    "                 \"AUDUSD\":0.6161}\n",
    "exchange_rates[\"EURUSD\"]"
   ]
  },
  {
   "cell_type": "code",
   "execution_count": 2,
   "id": "prescribed-rwanda",
   "metadata": {},
   "outputs": [
    {
     "data": {
      "text/plain": [
       "{'EURUSD': 1.2, 'GBPUSD': 1.2454, 'AUDUSD': 0.6161}"
      ]
     },
     "execution_count": 2,
     "metadata": {},
     "output_type": "execute_result"
    }
   ],
   "source": [
    "exchange_rates[\"EURUSD\"] = 1.2\n",
    "exchange_rates"
   ]
  },
  {
   "cell_type": "code",
   "execution_count": 4,
   "id": "metropolitan-lodge",
   "metadata": {},
   "outputs": [
    {
     "data": {
      "text/plain": [
       "{'EURUSD': 1.2, 'GBPUSD': 1.2454, 'AUDUSD': 0.6161, 'CADUSD': 0.714}"
      ]
     },
     "execution_count": 4,
     "metadata": {},
     "output_type": "execute_result"
    }
   ],
   "source": [
    "exchange_rates[\"CADUSD\"] = 0.714\n",
    "exchange_rates"
   ]
  },
  {
   "cell_type": "code",
   "execution_count": 7,
   "id": "turkish-bouquet",
   "metadata": {},
   "outputs": [
    {
     "data": {
      "text/plain": [
       "{'EURUSD': 1.2,\n",
       " 'GBPUSD': 1.2222,\n",
       " 'AUDUSD': 0.6161,\n",
       " 'CADUSD': 0.714,\n",
       " 'SGDUSD': 0.7004}"
      ]
     },
     "execution_count": 7,
     "metadata": {},
     "output_type": "execute_result"
    }
   ],
   "source": [
    "#one form of unpacking dictionaires\n",
    "{**exchange_rates, **{\"SGDUSD\":0.7004, \"GBPUSD\":1.2222}}"
   ]
  },
  {
   "cell_type": "code",
   "execution_count": 8,
   "id": "lucky-jackson",
   "metadata": {},
   "outputs": [
    {
     "data": {
      "text/plain": [
       "{'EURUSD': 1.2,\n",
       " 'GBPUSD': 1.2222,\n",
       " 'AUDUSD': 0.6161,\n",
       " 'CADUSD': 0.714,\n",
       " 'SGDUSD': 0.7004}"
      ]
     },
     "execution_count": 8,
     "metadata": {},
     "output_type": "execute_result"
    }
   ],
   "source": [
    "#one form of unpacking dictionaires\n",
    "exchange_rates | {\"SGDUSD\":0.7004, \"GBPUSD\":1.2222}"
   ]
  },
  {
   "cell_type": "code",
   "execution_count": 9,
   "id": "black-rabbit",
   "metadata": {},
   "outputs": [
    {
     "data": {
      "text/plain": [
       "'EUR'"
      ]
     },
     "execution_count": 9,
     "metadata": {},
     "output_type": "execute_result"
    }
   ],
   "source": [
    "currencies = {1:\"EUR\", 2:\"USD\", 3:\"AUD\"}\n",
    "currencies[1]"
   ]
  },
  {
   "cell_type": "code",
   "execution_count": 10,
   "id": "behavioral-chance",
   "metadata": {},
   "outputs": [
    {
     "data": {
      "text/plain": [
       "'N/A'"
      ]
     },
     "execution_count": 10,
     "metadata": {},
     "output_type": "execute_result"
    }
   ],
   "source": [
    "currencies.get(100,\"N/A\")"
   ]
  },
  {
   "cell_type": "code",
   "execution_count": 11,
   "id": "growing-voluntary",
   "metadata": {},
   "outputs": [
    {
     "data": {
      "text/plain": [
       "'EUR'"
      ]
     },
     "execution_count": 11,
     "metadata": {},
     "output_type": "execute_result"
    }
   ],
   "source": [
    "# Tuple example\n",
    "currencies = (\"EUR\", \"GBP\", \"AUD\")\n",
    "currencies[0]"
   ]
  },
  {
   "cell_type": "code",
   "execution_count": 12,
   "id": "lucky-paint",
   "metadata": {},
   "outputs": [
    {
     "data": {
      "text/plain": [
       "('EUR', 'GBP', 'AUD', 'SGD')"
      ]
     },
     "execution_count": 12,
     "metadata": {},
     "output_type": "execute_result"
    }
   ],
   "source": [
    "#adding to a tuple (new tuple)\n",
    "currencies + (\"SGD\",)"
   ]
  },
  {
   "cell_type": "code",
   "execution_count": 1,
   "id": "overall-offer",
   "metadata": {},
   "outputs": [
    {
     "data": {
      "text/plain": [
       "{'EUR', 'SGD', 'USD'}"
      ]
     },
     "execution_count": 1,
     "metadata": {},
     "output_type": "execute_result"
    }
   ],
   "source": [
    "# Set example (with constructor)\n",
    "set([\"USD\", \"USD\",\"SGD\",\"EUR\",\"EUR\",\"USD\"])"
   ]
  },
  {
   "cell_type": "code",
   "execution_count": 2,
   "id": "designing-fantasy",
   "metadata": {},
   "outputs": [],
   "source": [
    "portfolio1 = {\"USD\", \"EUR\", \"SGD\", \"CHF\"}\n",
    "portfolio2 = {\"EUR\", \"SGD\", \"CAD\"}"
   ]
  },
  {
   "cell_type": "code",
   "execution_count": 3,
   "id": "increased-school",
   "metadata": {},
   "outputs": [
    {
     "data": {
      "text/plain": [
       "{'CAD', 'CHF', 'EUR', 'SGD', 'USD'}"
      ]
     },
     "execution_count": 3,
     "metadata": {},
     "output_type": "execute_result"
    }
   ],
   "source": [
    "portfolio1.union(portfolio2)"
   ]
  },
  {
   "cell_type": "code",
   "execution_count": 4,
   "id": "heavy-window",
   "metadata": {},
   "outputs": [
    {
     "data": {
      "text/plain": [
       "{'EUR', 'SGD'}"
      ]
     },
     "execution_count": 4,
     "metadata": {},
     "output_type": "execute_result"
    }
   ],
   "source": [
    "portfolio1.intersection(portfolio2)"
   ]
  },
  {
   "cell_type": "code",
   "execution_count": 5,
   "id": "turkish-albany",
   "metadata": {},
   "outputs": [
    {
     "data": {
      "text/plain": [
       "('USD', 'EUR', 'CHF')"
      ]
     },
     "execution_count": 5,
     "metadata": {},
     "output_type": "execute_result"
    }
   ],
   "source": [
    "#example to convert a tuple to a list\n",
    "currencies = \"USD\", \"EUR\", \"CHF\"\n",
    "currencies"
   ]
  },
  {
   "cell_type": "code",
   "execution_count": 6,
   "id": "combined-davis",
   "metadata": {},
   "outputs": [
    {
     "data": {
      "text/plain": [
       "['USD', 'EUR', 'CHF']"
      ]
     },
     "execution_count": 6,
     "metadata": {},
     "output_type": "execute_result"
    }
   ],
   "source": [
    "list(currencies)"
   ]
  },
  {
   "cell_type": "code",
   "execution_count": 8,
   "id": "north-musical",
   "metadata": {},
   "outputs": [
    {
     "name": "stdout",
     "output_type": "stream",
     "text": [
      "i is bigger than 10\n"
     ]
    }
   ],
   "source": [
    "# control flow\n",
    "i = 20\n",
    "if i < 5:\n",
    "    print(\"i is smaller than 5\")\n",
    "elif i <= 10:\n",
    "    print(\"i is between 5 and 10\")\n",
    "else:\n",
    "    print(\"i is bigger than 10\")\n",
    "        "
   ]
  },
  {
   "cell_type": "code",
   "execution_count": 9,
   "id": "numerical-vaccine",
   "metadata": {},
   "outputs": [
    {
     "name": "stdout",
     "output_type": "stream",
     "text": [
      "This is important.\n"
     ]
    }
   ],
   "source": [
    "is_important = True\n",
    "if is_important:\n",
    "    print(\"This is important.\")\n",
    "else:\n",
    "    print(\"This is not important.\")"
   ]
  },
  {
   "cell_type": "code",
   "execution_count": 10,
   "id": "proud-rocket",
   "metadata": {},
   "outputs": [
    {
     "name": "stdout",
     "output_type": "stream",
     "text": [
      "There were no values provided.\n"
     ]
    }
   ],
   "source": [
    "values = []\n",
    "if values:\n",
    "    print(f\"The following values were provided: {values}\")\n",
    "else:\n",
    "    print(\"There were no values provided.\")"
   ]
  },
  {
   "cell_type": "code",
   "execution_count": 11,
   "id": "engaging-battlefield",
   "metadata": {},
   "outputs": [
    {
     "name": "stdout",
     "output_type": "stream",
     "text": [
      "not important\n"
     ]
    }
   ],
   "source": [
    "#conditional statement (ternary operation)\n",
    "is_important = False\n",
    "print(\"important\") if is_important else print(\"not important\")"
   ]
  },
  {
   "cell_type": "code",
   "execution_count": 12,
   "id": "entitled-induction",
   "metadata": {},
   "outputs": [
    {
     "name": "stdout",
     "output_type": "stream",
     "text": [
      "USD\n",
      "HKD\n",
      "AUD\n"
     ]
    }
   ],
   "source": [
    "currencies = [\"USD\", \"HKD\", \"AUD\"]\n",
    "for currency in currencies:\n",
    "    print(currency)"
   ]
  },
  {
   "cell_type": "code",
   "execution_count": 13,
   "id": "hybrid-silly",
   "metadata": {},
   "outputs": [
    {
     "data": {
      "text/plain": [
       "range(0, 5)"
      ]
     },
     "execution_count": 13,
     "metadata": {},
     "output_type": "execute_result"
    }
   ],
   "source": [
    "#range examples\n",
    "range(5)"
   ]
  },
  {
   "cell_type": "code",
   "execution_count": 14,
   "id": "southern-usage",
   "metadata": {},
   "outputs": [
    {
     "data": {
      "text/plain": [
       "[0, 1, 2, 3, 4]"
      ]
     },
     "execution_count": 14,
     "metadata": {},
     "output_type": "execute_result"
    }
   ],
   "source": [
    "list(range(5))"
   ]
  },
  {
   "cell_type": "code",
   "execution_count": 15,
   "id": "studied-universe",
   "metadata": {},
   "outputs": [
    {
     "data": {
      "text/plain": [
       "[2, 4]"
      ]
     },
     "execution_count": 15,
     "metadata": {},
     "output_type": "execute_result"
    }
   ],
   "source": [
    "list(range(2,5,2))"
   ]
  },
  {
   "cell_type": "code",
   "execution_count": 16,
   "id": "superb-young",
   "metadata": {},
   "outputs": [
    {
     "name": "stdout",
     "output_type": "stream",
     "text": [
      "0\n",
      "1\n",
      "2\n"
     ]
    }
   ],
   "source": [
    "for i in range(3):\n",
    "    print(i)"
   ]
  },
  {
   "cell_type": "code",
   "execution_count": 17,
   "id": "tired-trader",
   "metadata": {},
   "outputs": [
    {
     "name": "stdout",
     "output_type": "stream",
     "text": [
      "0 USD\n",
      "1 HKD\n",
      "2 AUD\n"
     ]
    }
   ],
   "source": [
    "for i, currency in enumerate(currencies):\n",
    "    print(i, currency)"
   ]
  },
  {
   "cell_type": "code",
   "execution_count": 18,
   "id": "signal-patrol",
   "metadata": {},
   "outputs": [
    {
     "name": "stdout",
     "output_type": "stream",
     "text": [
      "EURUSD\n",
      "GBPUSD\n",
      "AUDUSD\n"
     ]
    }
   ],
   "source": [
    "exchange_rates = {\"EURUSD\": 1.1152,\n",
    "                 \"GBPUSD\": 1.2454,\n",
    "                 \"AUDUSD\": 0.6161}\n",
    "for currency_pair in exchange_rates:\n",
    "    print(currency_pair)"
   ]
  },
  {
   "cell_type": "code",
   "execution_count": 20,
   "id": "friendly-clinic",
   "metadata": {},
   "outputs": [
    {
     "name": "stdout",
     "output_type": "stream",
     "text": [
      "EURUSD 1.1152\n",
      "GBPUSD 1.2454\n",
      "AUDUSD 0.6161\n"
     ]
    }
   ],
   "source": [
    "for currency_pair, exchange_rate in exchange_rates.items():\n",
    "    print(currency_pair, exchange_rate)"
   ]
  },
  {
   "cell_type": "code",
   "execution_count": 21,
   "id": "behind-mistress",
   "metadata": {},
   "outputs": [
    {
     "name": "stdout",
     "output_type": "stream",
     "text": [
      "0\n",
      "1\n"
     ]
    }
   ],
   "source": [
    "for i in range(15):\n",
    "    if i == 2:\n",
    "        break\n",
    "    else:\n",
    "        print(i)"
   ]
  },
  {
   "cell_type": "code",
   "execution_count": 22,
   "id": "quantitative-jones",
   "metadata": {},
   "outputs": [
    {
     "name": "stdout",
     "output_type": "stream",
     "text": [
      "0\n",
      "1\n",
      "3\n"
     ]
    }
   ],
   "source": [
    "for i in range(4):\n",
    "    if i == 2:\n",
    "        continue\n",
    "    else:\n",
    "        print(i)"
   ]
  },
  {
   "cell_type": "code",
   "execution_count": 23,
   "id": "external-procedure",
   "metadata": {},
   "outputs": [
    {
     "name": "stdout",
     "output_type": "stream",
     "text": [
      "1\n",
      "2\n",
      "3\n",
      "3\n"
     ]
    }
   ],
   "source": [
    "for i in range(1, 4):\n",
    "    print(i)\n",
    "print(i)"
   ]
  },
  {
   "cell_type": "code",
   "execution_count": 24,
   "id": "adverse-punishment",
   "metadata": {},
   "outputs": [
    {
     "name": "stdout",
     "output_type": "stream",
     "text": [
      "0\n",
      "1\n",
      "2\n"
     ]
    }
   ],
   "source": [
    "n = 0\n",
    "while n <= 2:\n",
    "    print(n)\n",
    "    n += 1"
   ]
  },
  {
   "cell_type": "code",
   "execution_count": 27,
   "id": "exotic-table",
   "metadata": {},
   "outputs": [
    {
     "data": {
      "text/plain": [
       "['AUD', 'NZD']"
      ]
     },
     "execution_count": 27,
     "metadata": {},
     "output_type": "execute_result"
    }
   ],
   "source": [
    "#program to get currencies where USD is mentioned second\n",
    "currency_pairs = [\"USDJPY\", \"USDGBP\",\"USDCHF\",\"USDCAD\",\"AUDUSD\",\"NZDUSD\"]\n",
    "usd_quote = []\n",
    "for pair in currency_pairs:\n",
    "    if pair[3:] == \"USD\":\n",
    "        usd_quote.append(pair[:3])\n",
    "usd_quote"
   ]
  },
  {
   "cell_type": "code",
   "execution_count": 28,
   "id": "nasty-penny",
   "metadata": {},
   "outputs": [
    {
     "data": {
      "text/plain": [
       "['AUD', 'NZD']"
      ]
     },
     "execution_count": 28,
     "metadata": {},
     "output_type": "execute_result"
    }
   ],
   "source": [
    "#list comprehension example\n",
    "[pair[:3] for pair in currency_pairs if pair[3:]==\"USD\"]"
   ]
  },
  {
   "cell_type": "code",
   "execution_count": 29,
   "id": "addressed-somalia",
   "metadata": {},
   "outputs": [
    {
     "data": {
      "text/plain": [
       "['JPYUSD', 'GBPUSD', 'CHFUSD', 'CADUSD', 'USDAUD', 'USDNZD']"
      ]
     },
     "execution_count": 29,
     "metadata": {},
     "output_type": "execute_result"
    }
   ],
   "source": [
    "# inverting the currencies\n",
    "[pair[3:] + pair[:3] for pair in currency_pairs]"
   ]
  },
  {
   "cell_type": "code",
   "execution_count": 30,
   "id": "honey-macintosh",
   "metadata": {},
   "outputs": [
    {
     "data": {
      "text/plain": [
       "{'EURUSD': 111.52, 'GBPUSD': 124.54, 'AUDUSD': 61.61}"
      ]
     },
     "execution_count": 30,
     "metadata": {},
     "output_type": "execute_result"
    }
   ],
   "source": [
    "# dictionary comprehension\n",
    "exchange_rates = {\"EURUSD\": 1.1152,\n",
    "                  \"GBPUSD\": 1.2454,\n",
    "                  \"AUDUSD\": 0.6161}\n",
    "{k: v * 100 for (k, v) in exchange_rates.items()}"
   ]
  },
  {
   "cell_type": "code",
   "execution_count": 31,
   "id": "harmful-douglas",
   "metadata": {},
   "outputs": [
    {
     "data": {
      "text/plain": [
       "{'EURUSD', 'GBPUSD', 'HKDUSD'}"
      ]
     },
     "execution_count": 31,
     "metadata": {},
     "output_type": "execute_result"
    }
   ],
   "source": [
    "# set comprehension\n",
    "In [106]: {s + \"USD\" for s in [\"EUR\", \"GBP\", \"EUR\", \"HKD\", \"HKD\"]}"
   ]
  },
  {
   "cell_type": "code",
   "execution_count": 32,
   "id": "floppy-deputy",
   "metadata": {},
   "outputs": [],
   "source": [
    "# function example, Fahrenheit/Kelvin to Celsius\n",
    "def convert_to_celsius(degrees, source=\"fahrenheit\"):\n",
    "    if source.lower() == \"fahrenheit\":\n",
    "        return (degrees-32) * (5/9)\n",
    "    elif source.lower() == \"kelvin\":\n",
    "        return degrees - 273.15\n",
    "    else:\n",
    "        return f\"Don't know how to convert from {source}\""
   ]
  },
  {
   "cell_type": "code",
   "execution_count": 33,
   "id": "composed-columbia",
   "metadata": {},
   "outputs": [
    {
     "data": {
      "text/plain": [
       "37.77777777777778"
      ]
     },
     "execution_count": 33,
     "metadata": {},
     "output_type": "execute_result"
    }
   ],
   "source": [
    "convert_to_celsius(100, \"fahrenheit\") #Positional arguments"
   ]
  },
  {
   "cell_type": "code",
   "execution_count": 34,
   "id": "spatial-chest",
   "metadata": {},
   "outputs": [
    {
     "data": {
      "text/plain": [
       "10.0"
      ]
     },
     "execution_count": 34,
     "metadata": {},
     "output_type": "execute_result"
    }
   ],
   "source": [
    "convert_to_celsius(50) #using default source"
   ]
  },
  {
   "cell_type": "code",
   "execution_count": 35,
   "id": "gross-register",
   "metadata": {},
   "outputs": [
    {
     "data": {
      "text/plain": [
       "-273.15"
      ]
     },
     "execution_count": 35,
     "metadata": {},
     "output_type": "execute_result"
    }
   ],
   "source": [
    "convert_to_celsius(source=\"kelvin\", degrees=0) #Keyword arguments"
   ]
  },
  {
   "cell_type": "code",
   "execution_count": 41,
   "id": "seeing-cisco",
   "metadata": {},
   "outputs": [
    {
     "name": "stdout",
     "output_type": "stream",
     "text": [
      "This is the temperature module.\n"
     ]
    }
   ],
   "source": [
    "#importing the temperature.py module\n",
    "\n",
    "import temperature"
   ]
  },
  {
   "cell_type": "code",
   "execution_count": 42,
   "id": "uniform-focus",
   "metadata": {},
   "outputs": [
    {
     "data": {
      "text/plain": [
       "('fahrenheit', 'kelvin', 'celsius')"
      ]
     },
     "execution_count": 42,
     "metadata": {},
     "output_type": "execute_result"
    }
   ],
   "source": [
    "temperature.TEMPERATURE_SCALES"
   ]
  },
  {
   "cell_type": "code",
   "execution_count": 43,
   "id": "derived-tomorrow",
   "metadata": {},
   "outputs": [
    {
     "data": {
      "text/plain": [
       "48.88888888888889"
      ]
     },
     "execution_count": 43,
     "metadata": {},
     "output_type": "execute_result"
    }
   ],
   "source": [
    "temperature.convert_to_celsius(120, \"fahrenheit\")"
   ]
  },
  {
   "cell_type": "code",
   "execution_count": 44,
   "id": "thousand-therapy",
   "metadata": {},
   "outputs": [],
   "source": [
    "import temperature as tp"
   ]
  },
  {
   "cell_type": "code",
   "execution_count": 45,
   "id": "powerful-flexibility",
   "metadata": {},
   "outputs": [
    {
     "data": {
      "text/plain": [
       "('fahrenheit', 'kelvin', 'celsius')"
      ]
     },
     "execution_count": 45,
     "metadata": {},
     "output_type": "execute_result"
    }
   ],
   "source": [
    "tp.TEMPERATURE_SCALES"
   ]
  },
  {
   "cell_type": "code",
   "execution_count": 46,
   "id": "hispanic-discrimination",
   "metadata": {},
   "outputs": [],
   "source": [
    "from temperature import TEMPERATURE_SCALES, convert_to_celsius"
   ]
  },
  {
   "cell_type": "code",
   "execution_count": 47,
   "id": "coordinated-motion",
   "metadata": {},
   "outputs": [
    {
     "data": {
      "text/plain": [
       "('fahrenheit', 'kelvin', 'celsius')"
      ]
     },
     "execution_count": 47,
     "metadata": {},
     "output_type": "execute_result"
    }
   ],
   "source": [
    "TEMPERATURE_SCALES"
   ]
  },
  {
   "cell_type": "code",
   "execution_count": 48,
   "id": "private-export",
   "metadata": {},
   "outputs": [
    {
     "data": {
      "text/plain": [
       "'\\nimport datetime as dt\\ndt.datetime(year, month, day, hour, minute, second, microsecond, timezone)\\n'"
      ]
     },
     "execution_count": 48,
     "metadata": {},
     "output_type": "execute_result"
    }
   ],
   "source": [
    "'''\n",
    "import datetime as dt\n",
    "dt.datetime(year, month, day, hour, minute, second, microsecond, timezone)\n",
    "'''"
   ]
  },
  {
   "cell_type": "code",
   "execution_count": 49,
   "id": "liberal-underwear",
   "metadata": {},
   "outputs": [],
   "source": [
    "#Import the datetime module as \"dt\"\n",
    "import datetime as dt"
   ]
  },
  {
   "cell_type": "code",
   "execution_count": 50,
   "id": "steady-blair",
   "metadata": {},
   "outputs": [
    {
     "data": {
      "text/plain": [
       "datetime.datetime(2020, 1, 31, 14, 30)"
      ]
     },
     "execution_count": 50,
     "metadata": {},
     "output_type": "execute_result"
    }
   ],
   "source": [
    "#Instantiate a datetime object called \"timestamp\"\n",
    "timestamp = dt.datetime(2020, 1, 31, 14, 30)\n",
    "timestamp"
   ]
  },
  {
   "cell_type": "code",
   "execution_count": 51,
   "id": "adult-croatia",
   "metadata": {},
   "outputs": [
    {
     "data": {
      "text/plain": [
       "31"
      ]
     },
     "execution_count": 51,
     "metadata": {},
     "output_type": "execute_result"
    }
   ],
   "source": [
    "timestamp.day"
   ]
  },
  {
   "cell_type": "code",
   "execution_count": 52,
   "id": "greek-genealogy",
   "metadata": {},
   "outputs": [
    {
     "data": {
      "text/plain": [
       "datetime.timedelta(days=17, seconds=9000)"
      ]
     },
     "execution_count": 52,
     "metadata": {},
     "output_type": "execute_result"
    }
   ],
   "source": [
    "#difference of two datetime objects returns a timedelta object\n",
    "timestamp - dt.datetime(2020, 1, 14, 12, 0)"
   ]
  },
  {
   "cell_type": "code",
   "execution_count": 54,
   "id": "entitled-vehicle",
   "metadata": {},
   "outputs": [
    {
     "data": {
      "text/plain": [
       "datetime.datetime(2020, 2, 1, 18, 41)"
      ]
     },
     "execution_count": 54,
     "metadata": {},
     "output_type": "execute_result"
    }
   ],
   "source": [
    "timestamp + dt.timedelta(days=1, hours=4, minutes=11)"
   ]
  },
  {
   "cell_type": "code",
   "execution_count": 55,
   "id": "incorporated-payroll",
   "metadata": {},
   "outputs": [
    {
     "data": {
      "text/plain": [
       "'31/01/2020 14:30'"
      ]
     },
     "execution_count": 55,
     "metadata": {},
     "output_type": "execute_result"
    }
   ],
   "source": [
    "#Format a datetime object in a specific way\n",
    "#can also use f-string: f\"{timestamp:%d/%m/%Y %H:%M}\"\n",
    "timestamp.strftime(\"%d/%m/%Y %H:%M\")"
   ]
  },
  {
   "cell_type": "code",
   "execution_count": 56,
   "id": "infectious-glory",
   "metadata": {},
   "outputs": [
    {
     "data": {
      "text/plain": [
       "datetime.datetime(2020, 1, 12, 0, 0)"
      ]
     },
     "execution_count": 56,
     "metadata": {},
     "output_type": "execute_result"
    }
   ],
   "source": [
    "#Parse a string into a datetime object\n",
    "dt.datetime.strptime(\"12.1.2020\", \"%d.%m.%Y\")"
   ]
  },
  {
   "cell_type": "code",
   "execution_count": null,
   "id": "opponent-robinson",
   "metadata": {},
   "outputs": [],
   "source": []
  }
 ],
 "metadata": {
  "kernelspec": {
   "display_name": "Python 3",
   "language": "python",
   "name": "python3"
  },
  "language_info": {
   "codemirror_mode": {
    "name": "ipython",
    "version": 3
   },
   "file_extension": ".py",
   "mimetype": "text/x-python",
   "name": "python",
   "nbconvert_exporter": "python",
   "pygments_lexer": "ipython3",
   "version": "3.9.1"
  }
 },
 "nbformat": 4,
 "nbformat_minor": 5
}
